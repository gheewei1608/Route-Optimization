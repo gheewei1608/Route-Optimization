{
 "cells": [
  {
   "cell_type": "code",
   "execution_count": 1,
   "metadata": {
    "collapsed": true
   },
   "outputs": [],
   "source": [
    "import pandas as pd\n",
    "import numpy as np\n",
    "import itertools"
   ]
  },
  {
   "cell_type": "code",
   "execution_count": 2,
   "metadata": {
    "collapsed": false
   },
   "outputs": [
    {
     "data": {
      "text/html": [
       "<div>\n",
       "<table border=\"1\" class=\"dataframe\">\n",
       "  <thead>\n",
       "    <tr style=\"text-align: right;\">\n",
       "      <th></th>\n",
       "      <th>customer</th>\n",
       "      <th>latitude</th>\n",
       "      <th>longitude</th>\n",
       "      <th>demand</th>\n",
       "    </tr>\n",
       "  </thead>\n",
       "  <tbody>\n",
       "    <tr>\n",
       "      <th>0</th>\n",
       "      <td>1</td>\n",
       "      <td>4.3555</td>\n",
       "      <td>113.9777</td>\n",
       "      <td>5</td>\n",
       "    </tr>\n",
       "    <tr>\n",
       "      <th>1</th>\n",
       "      <td>2</td>\n",
       "      <td>4.3976</td>\n",
       "      <td>114.0049</td>\n",
       "      <td>8</td>\n",
       "    </tr>\n",
       "    <tr>\n",
       "      <th>2</th>\n",
       "      <td>3</td>\n",
       "      <td>4.3163</td>\n",
       "      <td>114.0764</td>\n",
       "      <td>3</td>\n",
       "    </tr>\n",
       "    <tr>\n",
       "      <th>3</th>\n",
       "      <td>4</td>\n",
       "      <td>4.3184</td>\n",
       "      <td>113.9932</td>\n",
       "      <td>6</td>\n",
       "    </tr>\n",
       "    <tr>\n",
       "      <th>4</th>\n",
       "      <td>5</td>\n",
       "      <td>4.4024</td>\n",
       "      <td>113.9896</td>\n",
       "      <td>5</td>\n",
       "    </tr>\n",
       "    <tr>\n",
       "      <th>5</th>\n",
       "      <td>6</td>\n",
       "      <td>4.4142</td>\n",
       "      <td>144.0127</td>\n",
       "      <td>8</td>\n",
       "    </tr>\n",
       "    <tr>\n",
       "      <th>6</th>\n",
       "      <td>7</td>\n",
       "      <td>4.4804</td>\n",
       "      <td>144.0734</td>\n",
       "      <td>3</td>\n",
       "    </tr>\n",
       "    <tr>\n",
       "      <th>7</th>\n",
       "      <td>8</td>\n",
       "      <td>4.3818</td>\n",
       "      <td>144.2034</td>\n",
       "      <td>6</td>\n",
       "    </tr>\n",
       "    <tr>\n",
       "      <th>8</th>\n",
       "      <td>9</td>\n",
       "      <td>4.4935</td>\n",
       "      <td>144.1828</td>\n",
       "      <td>5</td>\n",
       "    </tr>\n",
       "    <tr>\n",
       "      <th>9</th>\n",
       "      <td>10</td>\n",
       "      <td>4.4932</td>\n",
       "      <td>144.1322</td>\n",
       "      <td>8</td>\n",
       "    </tr>\n",
       "  </tbody>\n",
       "</table>\n",
       "</div>"
      ],
      "text/plain": [
       "   customer  latitude  longitude  demand\n",
       "0         1    4.3555   113.9777       5\n",
       "1         2    4.3976   114.0049       8\n",
       "2         3    4.3163   114.0764       3\n",
       "3         4    4.3184   113.9932       6\n",
       "4         5    4.4024   113.9896       5\n",
       "5         6    4.4142   144.0127       8\n",
       "6         7    4.4804   144.0734       3\n",
       "7         8    4.3818   144.2034       6\n",
       "8         9    4.4935   144.1828       5\n",
       "9        10    4.4932   144.1322       8"
      ]
     },
     "execution_count": 2,
     "metadata": {},
     "output_type": "execute_result"
    }
   ],
   "source": [
    "customer_df = pd.read_excel(r'C:\\Users\\Asus\\Downloads\\Shipment.xlsx')\n",
    "customer_df"
   ]
  },
  {
   "cell_type": "code",
   "execution_count": 3,
   "metadata": {
    "collapsed": true
   },
   "outputs": [],
   "source": [
    "def calculate_euclidean_distance(latitude1, longitude1, latitude2, longitude2):\n",
    "    return float(np.sqrt((latitude1 - latitude2)**2 + (longitude1 - longitude2)**2))"
   ]
  },
  {
   "cell_type": "code",
   "execution_count": 4,
   "metadata": {
    "collapsed": true
   },
   "outputs": [],
   "source": [
    "def generate_random_route(customer_df, vehicle_capacity):\n",
    "    \n",
    "    # Shuffle customer sequence\n",
    "    \n",
    "    shuffled_customer_df = customer_df.sample(frac=1).reset_index(drop=True)\n",
    "    \n",
    "    vehicle_demand = 0\n",
    "    customer_list = []\n",
    "    \n",
    "    for index, row in shuffled_customer_df.iterrows():\n",
    "        vehicle_demand_temp = vehicle_demand + row['demand']\n",
    "        if vehicle_demand_temp < vehicle_capacity:\n",
    "            vehicle_demand += row['demand']\n",
    "            customer_list.append(row['customer'])\n",
    "\n",
    "    return customer_list, vehicle_demand"
   ]
  },
  {
   "cell_type": "code",
   "execution_count": 5,
   "metadata": {
    "collapsed": true
   },
   "outputs": [],
   "source": [
    "def get_permutation(route_sequence):\n",
    "    return list(itertools.permutations(route_sequence))"
   ]
  },
  {
   "cell_type": "code",
   "execution_count": 6,
   "metadata": {
    "collapsed": true
   },
   "outputs": [],
   "source": [
    "def calculate_route_distance(route, depot_latitude, depot_longitude):\n",
    "   \n",
    "    # Calculate distance from depot to first customer\n",
    "\n",
    "    total_distance = calculate_euclidean_distance(depot_latitude,\n",
    "                                        depot_longitude,\n",
    "                                        customer_df.loc[customer_df['customer'] == route[0], 'latitude'].values[0],\n",
    "                                        customer_df.loc[customer_df['customer'] == route[0], 'longitude'].values[0])\n",
    "    \n",
    "    # Calculate distance between customers\n",
    "    \n",
    "    for x in route[1:]:\n",
    "        total_distance = total_distance + calculate_euclidean_distance(customer_df[customer_df['customer'] == x]['latitude'],\n",
    "                                       customer_df[customer_df['customer'] == x]['longitude'],\n",
    "                                       customer_df.loc[customer_df['customer'] == route[route.index(x) - 1], 'latitude'].values[0],\n",
    "                                       customer_df.loc[customer_df['customer'] == route[route.index(x) - 1], 'longitude'].values[0])\n",
    "    \n",
    "    # Calculate distance from last customer back to depot\n",
    "    \n",
    "    total_distance = total_distance + calculate_euclidean_distance(depot_latitude,\n",
    "                                        depot_longitude,\n",
    "                                        customer_df.loc[customer_df['customer'] == route[len(route) - 1], 'latitude'].values[0],\n",
    "                                        customer_df.loc[customer_df['customer'] == route[len(route) - 1], 'longitude'].values[0])\n",
    "\n",
    "    return total_distance"
   ]
  },
  {
   "cell_type": "code",
   "execution_count": 7,
   "metadata": {
    "collapsed": true
   },
   "outputs": [],
   "source": [
    "def find_best_route_sequence(vehicle_capacity, distance_cost, depot_latitude, depot_longitude):\n",
    "\n",
    "    best_route_sequence, total_vehicle_demand = generate_random_route(customer_df, vehicle_capacity)\n",
    "    minimum_distance = calculate_route_distance(best_route_sequence, depot_latitude, depot_longitude)\n",
    "    route_permutation = get_permutation(best_route_sequence)\n",
    "    count = 0\n",
    "    \n",
    "    for route in route_permutation: \n",
    "        route_distance = calculate_route_distance(route, depot_latitude, depot_longitude)\n",
    "        \n",
    "        if route_distance < minimum_distance:\n",
    "            minimum_distance = route_distance\n",
    "            best_route_sequence = route\n",
    "            count = 0\n",
    "        else:\n",
    "            count = count + 1\n",
    "\n",
    "        # If there is no new minimum distance after 20 loops, stop the calculation\n",
    "            \n",
    "        if count == 20: \n",
    "            break\n",
    "        \n",
    "    return best_route_sequence, minimum_distance, total_vehicle_demand, minimum_distance*distance_cost"
   ]
  },
  {
   "cell_type": "markdown",
   "metadata": {},
   "source": [
    "It was observed that \n",
    "- If only one iteration is used, only one set of random customer will be used for permutation, other customers will be ignored.\n",
    "- Thus, to further optimize the solution, 100 iterations are used to take multiple random sets of customters to calculate the minimum cost. (Cons: larger computation cost if there are more customers in the future)"
   ]
  },
  {
   "cell_type": "code",
   "execution_count": 8,
   "metadata": {
    "collapsed": true
   },
   "outputs": [],
   "source": [
    "# Inputs\n",
    "\n",
    "capacity = 30\n",
    "cost_per_km = 1.5\n",
    "depot_latitude = 4.4184\n",
    "depot_logitude = 114.0932"
   ]
  },
  {
   "cell_type": "code",
   "execution_count": 9,
   "metadata": {
    "collapsed": false
   },
   "outputs": [],
   "source": [
    "route_list, distance_list, vehicle_demand_list, cost_list = [], [], [], []\n",
    "\n",
    "for _ in range(100):\n",
    "    route, distance, vehicle_demand, cost = find_best_route_sequence(capacity, cost_per_km, depot_latitude, depot_logitude)\n",
    "    route_list.append(route)\n",
    "    distance_list.append(distance)\n",
    "    vehicle_demand_list.append(vehicle_demand)\n",
    "    cost_list.append(cost)"
   ]
  },
  {
   "cell_type": "code",
   "execution_count": 10,
   "metadata": {
    "collapsed": false
   },
   "outputs": [
    {
     "name": "stdout",
     "output_type": "stream",
     "text": [
      "Vehicle with Capacity 30, RM 1.5 per km\n",
      "------------------------------------------------\n",
      "Distance (km):  0.3820453378700166\n",
      "Cost (RM):  0.5730680068050249\n",
      "Demand:  27\n",
      "Route:  Depot -> 3 -> 4 -> 1 -> 5 -> 2 -> Depot\n"
     ]
    }
   ],
   "source": [
    "print('Vehicle with Capacity {}, RM {} per km'.format(capacity, cost_per_km))\n",
    "print('------------------------------------------------')\n",
    "print('Distance (km): ', min(distance_list))\n",
    "print('Cost (RM): ', cost_list[distance_list.index(min(distance_list))])\n",
    "print('Demand: ', int(vehicle_demand_list[distance_list.index(min(distance_list))]))\n",
    "\n",
    "route_string = 'Depot'\n",
    "\n",
    "for customer in route_list[distance_list.index(min(distance_list))]:\n",
    "    route_string = '{} -> {}'.format(route_string, int(customer))\n",
    "\n",
    "route_string = '{} -> {}'.format(route_string, 'Depot')\n",
    "\n",
    "print('Route: ', route_string)"
   ]
  },
  {
   "cell_type": "code",
   "execution_count": 11,
   "metadata": {
    "collapsed": true
   },
   "outputs": [],
   "source": [
    "# Inputs\n",
    "\n",
    "capacity = 25\n",
    "cost_per_km = 1.2"
   ]
  },
  {
   "cell_type": "code",
   "execution_count": 12,
   "metadata": {
    "collapsed": true
   },
   "outputs": [],
   "source": [
    "route_list, distance_list, vehicle_demand_list, cost_list = [], [], [], []\n",
    "\n",
    "for _ in range(100):\n",
    "    route, distance, vehicle_demand, cost = find_best_route_sequence(capacity, cost_per_km, depot_latitude, depot_logitude)\n",
    "    route_list.append(route)\n",
    "    distance_list.append(distance)\n",
    "    vehicle_demand_list.append(vehicle_demand)\n",
    "    cost_list.append(cost)"
   ]
  },
  {
   "cell_type": "code",
   "execution_count": 13,
   "metadata": {
    "collapsed": false
   },
   "outputs": [
    {
     "name": "stdout",
     "output_type": "stream",
     "text": [
      "Vehicle with Capacity 25, RM 1.2 per km\n",
      "------------------------------------------------\n",
      "Distance (km):  0.3775285795890166\n",
      "Cost (RM):  0.4530342955068199\n",
      "Demand:  22\n",
      "Route:  Depot -> 3 -> 4 -> 5 -> 2 -> Depot\n"
     ]
    }
   ],
   "source": [
    "print('Vehicle with Capacity {}, RM {} per km'.format(capacity, cost_per_km))\n",
    "print('------------------------------------------------')\n",
    "print('Distance (km): ', min(distance_list))\n",
    "print('Cost (RM): ', cost_list[distance_list.index(min(distance_list))])\n",
    "print('Demand: ', int(vehicle_demand_list[distance_list.index(min(distance_list))]))\n",
    "\n",
    "route_string = 'Depot'\n",
    "\n",
    "for customer in route_list[distance_list.index(min(distance_list))]:\n",
    "    route_string = '{} -> {}'.format(route_string, int(customer))\n",
    "\n",
    "route_string = '{} -> {}'.format(route_string, 'Depot')\n",
    "\n",
    "print('Route: ', route_string)"
   ]
  }
 ],
 "metadata": {
  "kernelspec": {
   "display_name": "Python 3",
   "language": "python",
   "name": "python3"
  },
  "language_info": {
   "codemirror_mode": {
    "name": "ipython",
    "version": 3
   },
   "file_extension": ".py",
   "mimetype": "text/x-python",
   "name": "python",
   "nbconvert_exporter": "python",
   "pygments_lexer": "ipython3",
   "version": "3.6.0"
  }
 },
 "nbformat": 4,
 "nbformat_minor": 5
}
